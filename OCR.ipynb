{
 "cells": [
  {
   "cell_type": "code",
   "execution_count": 16,
   "metadata": {},
   "outputs": [
    {
     "name": "stdout",
     "output_type": "stream",
     "text": [
      "Requirement already satisfied: pytesseract in c:\\users\\mald2\\anaconda3\\envs\\py_env\\lib\\site-packages (0.3.10)\n",
      "Requirement already satisfied: packaging>=21.3 in c:\\users\\mald2\\anaconda3\\envs\\py_env\\lib\\site-packages (from pytesseract) (23.1)\n",
      "Requirement already satisfied: Pillow>=8.0.0 in c:\\users\\mald2\\anaconda3\\envs\\py_env\\lib\\site-packages (from pytesseract) (10.0.1)\n"
     ]
    }
   ],
   "source": [
    "!pip install pytesseract io pdf2image opencv-python"
   ]
  },
  {
   "cell_type": "code",
   "execution_count": null,
   "metadata": {
    "colab": {
     "base_uri": "https://localhost:8080/"
    },
    "id": "rd7y_FNNITlE",
    "outputId": "a4605f55-3b55-49a1-f92e-b8dfa9c902bd"
   },
   "outputs": [
    {
     "name": "stdout",
     "output_type": "stream",
     "text": [
      "Requirement already satisfied: scikit-image in /usr/local/lib/python3.10/dist-packages (0.19.3)\n",
      "Requirement already satisfied: numpy>=1.17.0 in /usr/local/lib/python3.10/dist-packages (from scikit-image) (1.23.5)\n",
      "Requirement already satisfied: scipy>=1.4.1 in /usr/local/lib/python3.10/dist-packages (from scikit-image) (1.11.3)\n",
      "Requirement already satisfied: networkx>=2.2 in /usr/local/lib/python3.10/dist-packages (from scikit-image) (3.2)\n",
      "Requirement already satisfied: pillow!=7.1.0,!=7.1.1,!=8.3.0,>=6.1.0 in /usr/local/lib/python3.10/dist-packages (from scikit-image) (9.4.0)\n",
      "Requirement already satisfied: imageio>=2.4.1 in /usr/local/lib/python3.10/dist-packages (from scikit-image) (2.31.6)\n",
      "Requirement already satisfied: tifffile>=2019.7.26 in /usr/local/lib/python3.10/dist-packages (from scikit-image) (2023.9.26)\n",
      "Requirement already satisfied: PyWavelets>=1.1.1 in /usr/local/lib/python3.10/dist-packages (from scikit-image) (1.4.1)\n",
      "Requirement already satisfied: packaging>=20.0 in /usr/local/lib/python3.10/dist-packages (from scikit-image) (23.2)\n"
     ]
    }
   ],
   "source": [
    "!pip install scikit-image\n"
   ]
  },
  {
   "cell_type": "code",
   "execution_count": 8,
   "metadata": {
    "colab": {
     "base_uri": "https://localhost:8080/"
    },
    "id": "Vs_OW5mB5IPk",
    "outputId": "767d6e3e-ff07-4e50-9d7a-a01cdc692230"
   },
   "outputs": [
    {
     "name": "stdout",
     "output_type": "stream",
     "text": [
      "Mounted at /content/drive\n"
     ]
    }
   ],
   "source": [
    "from google.colab import drive\n",
    "drive.mount('/content/drive')"
   ]
  },
  {
   "cell_type": "code",
   "execution_count": null,
   "metadata": {
    "colab": {
     "base_uri": "https://localhost:8080/",
     "height": 245
    },
    "id": "V0DVRa0wH0rV",
    "outputId": "b93bbd16-e5db-437a-b5d7-a69950eabcbc"
   },
   "outputs": [
    {
     "ename": "NameError",
     "evalue": "ignored",
     "output_type": "error",
     "traceback": [
      "\u001b[0;31m---------------------------------------------------------------------------\u001b[0m",
      "\u001b[0;31mNameError\u001b[0m                                 Traceback (most recent call last)",
      "\u001b[0;32m<ipython-input-17-6148c463d251>\u001b[0m in \u001b[0;36m<cell line: 62>\u001b[0;34m()\u001b[0m\n\u001b[1;32m     61\u001b[0m \u001b[0;31m# Add slides to the PDF\u001b[0m\u001b[0;34m\u001b[0m\u001b[0;34m\u001b[0m\u001b[0m\n\u001b[1;32m     62\u001b[0m \u001b[0;32mfor\u001b[0m \u001b[0mslide\u001b[0m \u001b[0;32min\u001b[0m \u001b[0munique_slides\u001b[0m\u001b[0;34m:\u001b[0m\u001b[0;34m\u001b[0m\u001b[0;34m\u001b[0m\u001b[0m\n\u001b[0;32m---> 63\u001b[0;31m     \u001b[0mimg_byte_arr\u001b[0m \u001b[0;34m=\u001b[0m \u001b[0mio\u001b[0m\u001b[0;34m.\u001b[0m\u001b[0mBytesIO\u001b[0m\u001b[0;34m(\u001b[0m\u001b[0;34m)\u001b[0m\u001b[0;34m\u001b[0m\u001b[0;34m\u001b[0m\u001b[0m\n\u001b[0m\u001b[1;32m     64\u001b[0m     \u001b[0mslide\u001b[0m\u001b[0;34m.\u001b[0m\u001b[0msave\u001b[0m\u001b[0;34m(\u001b[0m\u001b[0mimg_byte_arr\u001b[0m\u001b[0;34m,\u001b[0m \u001b[0mformat\u001b[0m\u001b[0;34m=\u001b[0m\u001b[0;34m'PNG'\u001b[0m\u001b[0;34m)\u001b[0m\u001b[0;34m\u001b[0m\u001b[0;34m\u001b[0m\u001b[0m\n\u001b[1;32m     65\u001b[0m     \u001b[0mimg_byte_arr\u001b[0m \u001b[0;34m=\u001b[0m \u001b[0mimg_byte_arr\u001b[0m\u001b[0;34m.\u001b[0m\u001b[0mgetvalue\u001b[0m\u001b[0;34m(\u001b[0m\u001b[0;34m)\u001b[0m\u001b[0;34m\u001b[0m\u001b[0;34m\u001b[0m\u001b[0m\n",
      "\u001b[0;31mNameError\u001b[0m: name 'io' is not defined"
     ]
    }
   ],
   "source": [
    "import cv2\n",
    "import fitz  # PyMuPDF\n",
    "from PIL import Image\n",
    "import numpy as np\n",
    "from skimage.metrics import structural_similarity as ssim\n",
    "import io \n",
    "\n",
    "\n",
    "\n",
    "# Path to the video file\n",
    "video_path = '/content/drive/MyDrive/Recording #3.mp4'\n",
    "\n",
    "# Initialize the video capture object\n",
    "cap = cv2.VideoCapture(video_path)\n",
    "\n",
    "# Initialize a list to hold the unique slides\n",
    "unique_slides = []\n",
    "\n",
    "# Previous frame for comparison\n",
    "prev_frame = None\n",
    "\n",
    "# Tolerance to decide whether two images are similar\n",
    "similarity_threshold = 0.95\n",
    "\n",
    "def are_frames_similar(frame1, frame2, threshold):\n",
    "    # Calculate the structural similarity index (SSI) between two frames\n",
    "    # You can use skimage's structural_similarity function for this\n",
    "    # from skimage.metrics import structural_similarity as compare_ssim\n",
    "    # Return True if they are similar above the given threshold\n",
    "        # Compute SSIM between two images\n",
    "    ssi_index, _ = ssim(frame1, frame2, full=True)\n",
    "    return ssi_index > threshold\n",
    "\n",
    "    pass\n",
    "\n",
    "# Read frames from the video\n",
    "frame_count = 0\n",
    "while True:\n",
    "    ret, frame = cap.read()\n",
    "    if not ret:\n",
    "        break\n",
    "\n",
    "    # Convert the frame to grayscale for comparison\n",
    "    gray_frame = cv2.cvtColor(frame, cv2.COLOR_BGR2GRAY)\n",
    "\n",
    "    # Compare the current frame with the previous frame\n",
    "    if prev_frame is not None:\n",
    "        if not are_frames_similar(prev_frame, gray_frame, similarity_threshold):\n",
    "            # Frames are not similar; save the current frame as a unique slide\n",
    "            slide_image = Image.fromarray(frame)\n",
    "            unique_slides.append(slide_image)\n",
    "\n",
    "    prev_frame = gray_frame\n",
    "    frame_count += 1\n",
    "\n",
    "# Release the video capture object\n",
    "cap.release()\n",
    "\n"
   ]
  },
  {
   "cell_type": "code",
   "execution_count": null,
   "metadata": {
    "colab": {
     "base_uri": "https://localhost:8080/"
    },
    "id": "ZTh8pNhBR035",
    "outputId": "3b67a2d9-7e00-49ef-9895-2edc0ed23e1e"
   },
   "outputs": [
    {
     "name": "stdout",
     "output_type": "stream",
     "text": [
      "PDF with extracted slides created at: extracted_slides.pdf\n"
     ]
    }
   ],
   "source": [
    "import io\n",
    "# Create a PDF document\n",
    "pdf_path = 'extracted_slides.pdf'\n",
    "pdf_doc = fitz.open()\n",
    "\n",
    "# Add slides to the PDF\n",
    "for slide in unique_slides:\n",
    "    img_byte_arr = io.BytesIO()\n",
    "    slide.save(img_byte_arr, format='PNG')\n",
    "    img_byte_arr = img_byte_arr.getvalue()\n",
    "    img = fitz.open(\"png\", img_byte_arr)\n",
    "    rect = img[0].rect\n",
    "    pdfbytes = img.convert_to_pdf()\n",
    "    img.close()\n",
    "    imgPDF = fitz.open(\"pdf\", pdfbytes)\n",
    "    page = pdf_doc.new_page(width = rect.width, height = rect.height)\n",
    "    page.show_pdf_page(rect, imgPDF, 0)\n",
    "\n",
    "# Save the PDF document\n",
    "pdf_doc.save(pdf_path)\n",
    "pdf_doc.close()\n",
    "\n",
    "print(f\"PDF with extracted slides created at: {pdf_path}\")\n"
   ]
  }
 ],
 "metadata": {
  "colab": {
   "machine_shape": "hm",
   "provenance": []
  },
  "kernelspec": {
   "display_name": "Python 3 (ipykernel)",
   "language": "python",
   "name": "python3"
  },
  "language_info": {
   "codemirror_mode": {
    "name": "ipython",
    "version": 3
   },
   "file_extension": ".py",
   "mimetype": "text/x-python",
   "name": "python",
   "nbconvert_exporter": "python",
   "pygments_lexer": "ipython3",
   "version": "3.11.5"
  }
 },
 "nbformat": 4,
 "nbformat_minor": 4
}

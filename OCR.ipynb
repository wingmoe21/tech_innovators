{
  "cells": [
    {
      "cell_type": "code",
      "source": [
        "!pip install opencv-python"
      ],
      "metadata": {
        "colab": {
          "base_uri": "https://localhost:8080/"
        },
        "id": "hOzFMTmGlmcs",
        "outputId": "bfdd8155-87e8-4f93-c2ce-96f4e4c0f4fb"
      },
      "execution_count": 9,
      "outputs": [
        {
          "output_type": "stream",
          "name": "stdout",
          "text": [
            "Requirement already satisfied: opencv-python in /usr/local/lib/python3.10/dist-packages (4.8.0.76)\n",
            "Requirement already satisfied: numpy>=1.21.2 in /usr/local/lib/python3.10/dist-packages (from opencv-python) (1.23.5)\n"
          ]
        }
      ]
    },
    {
      "cell_type": "code",
      "source": [
        "!pip install pytesseract io pdf2image opencv-python"
      ],
      "metadata": {
        "colab": {
          "base_uri": "https://localhost:8080/"
        },
        "id": "CBND79BAnIlg",
        "outputId": "6a90c6e0-c5f8-42ba-c016-b0f2bf75cee5"
      },
      "execution_count": 11,
      "outputs": [
        {
          "output_type": "stream",
          "name": "stdout",
          "text": [
            "Requirement already satisfied: pytesseract in /usr/local/lib/python3.10/dist-packages (0.3.10)\n",
            "\u001b[31mERROR: Could not find a version that satisfies the requirement io (from versions: none)\u001b[0m\u001b[31m\n",
            "\u001b[0m\u001b[31mERROR: No matching distribution found for io\u001b[0m\u001b[31m\n",
            "\u001b[0m"
          ]
        }
      ]
    },
    {
      "cell_type": "code",
      "execution_count": 12,
      "metadata": {
        "colab": {
          "base_uri": "https://localhost:8080/"
        },
        "id": "rd7y_FNNITlE",
        "outputId": "5154d821-6f93-4f4b-fb41-c2e1f16b728d"
      },
      "outputs": [
        {
          "output_type": "stream",
          "name": "stdout",
          "text": [
            "Requirement already satisfied: scikit-image in /usr/local/lib/python3.10/dist-packages (0.19.3)\n",
            "Requirement already satisfied: numpy>=1.17.0 in /usr/local/lib/python3.10/dist-packages (from scikit-image) (1.23.5)\n",
            "Requirement already satisfied: scipy>=1.4.1 in /usr/local/lib/python3.10/dist-packages (from scikit-image) (1.11.3)\n",
            "Requirement already satisfied: networkx>=2.2 in /usr/local/lib/python3.10/dist-packages (from scikit-image) (3.2.1)\n",
            "Requirement already satisfied: pillow!=7.1.0,!=7.1.1,!=8.3.0,>=6.1.0 in /usr/local/lib/python3.10/dist-packages (from scikit-image) (9.4.0)\n",
            "Requirement already satisfied: imageio>=2.4.1 in /usr/local/lib/python3.10/dist-packages (from scikit-image) (2.31.6)\n",
            "Requirement already satisfied: tifffile>=2019.7.26 in /usr/local/lib/python3.10/dist-packages (from scikit-image) (2023.9.26)\n",
            "Requirement already satisfied: PyWavelets>=1.1.1 in /usr/local/lib/python3.10/dist-packages (from scikit-image) (1.4.1)\n",
            "Requirement already satisfied: packaging>=20.0 in /usr/local/lib/python3.10/dist-packages (from scikit-image) (23.2)\n"
          ]
        }
      ],
      "source": [
        "!pip install scikit-image\n"
      ]
    },
    {
      "cell_type": "code",
      "source": [
        "!pip install PyMuPDF"
      ],
      "metadata": {
        "colab": {
          "base_uri": "https://localhost:8080/"
        },
        "id": "K_81ZCfOmBwZ",
        "outputId": "ea353558-62a4-481f-ee28-82ba03fa615f"
      },
      "execution_count": 13,
      "outputs": [
        {
          "output_type": "stream",
          "name": "stdout",
          "text": [
            "Requirement already satisfied: PyMuPDF in /usr/local/lib/python3.10/dist-packages (1.23.6)\n",
            "Requirement already satisfied: PyMuPDFb==1.23.6 in /usr/local/lib/python3.10/dist-packages (from PyMuPDF) (1.23.6)\n"
          ]
        }
      ]
    },
    {
      "cell_type": "code",
      "execution_count": 8,
      "metadata": {
        "colab": {
          "base_uri": "https://localhost:8080/"
        },
        "id": "Vs_OW5mB5IPk",
        "outputId": "c5fae22d-f882-4d89-d7d7-53e71901e825"
      },
      "outputs": [
        {
          "output_type": "stream",
          "name": "stdout",
          "text": [
            "Mounted at /content/drive\n"
          ]
        }
      ],
      "source": [
        "from google.colab import drive\n",
        "drive.mount('/content/drive')"
      ]
    },
    {
      "cell_type": "code",
      "source": [
        "import cv2\n",
        "import fitz  # PyMuPDF\n",
        "from PIL import Image\n",
        "import numpy as np\n",
        "from skimage.metrics import structural_similarity as ssim\n",
        "import io\n",
        "import multiprocessing\n",
        "\n",
        "# Path to the video file\n",
        "video_path = '/content/drive/MyDrive/Recording #3.mp4'\n",
        "\n",
        "# Initialize the video capture object\n",
        "cap = cv2.VideoCapture(video_path)\n",
        "\n",
        "# Initialize a list to hold the unique slides\n",
        "unique_slides = []\n",
        "\n",
        "# Previous frame for comparison\n",
        "prev_frame = None\n",
        "\n",
        "# Tolerance to decide whether two images are similar\n",
        "similarity_threshold = 0.95\n",
        "\n",
        "def are_frames_similar(frame_pair):\n",
        "    frame1, frame2 = frame_pair\n",
        "    # Calculate the structural similarity index (SSI) between two frames\n",
        "    # You can use skimage's structural_similarity function for this\n",
        "    # from skimage.metrics import structural_similarity as compare_ssim\n",
        "    # Return True if they are similar above the given threshold\n",
        "    ssi_index, _ = ssim(frame1, frame2, full=True)\n",
        "    return ssi_index > similarity_threshold\n",
        "\n",
        "# Read frames from the video\n",
        "frames = []\n",
        "while True:\n",
        "    ret, frame = cap.read()\n",
        "    if not ret:\n",
        "        break\n",
        "\n",
        "    # Convert the frame to grayscale for comparison\n",
        "    gray_frame = cv2.cvtColor(frame, cv2.COLOR_BGR2GRAY)\n",
        "\n",
        "    # Add the frame to the list\n",
        "    frames.append(gray_frame)\n",
        "\n",
        "# Release the video capture object\n",
        "cap.release()\n",
        "\n",
        "# Compare frames and remove duplicates\n",
        "for i in range(len(frames)):\n",
        "    is_duplicate = False\n",
        "    frame = frames[i]\n",
        "\n",
        "    # Compare the current frame with previous unique slides\n",
        "    for unique_frame in unique_slides:\n",
        "        if are_frames_similar(unique_frame, frame, similarity_threshold):\n",
        "            is_duplicate = True\n",
        "            break\n",
        "\n",
        "    if not is_duplicate:\n",
        "        unique_slides.append(frame)\n",
        "\n",
        "# Compare frames in parallel\n",
        "with multiprocessing.Pool() as pool:\n",
        "    frame_pairs = zip(frames[:-1], frames[1:])\n",
        "    similar_frames = pool.map(are_frames_similar, frame_pairs)\n",
        "\n",
        "# Process the results\n",
        "for i, is_similar in enumerate(similar_frames):\n",
        "    if not is_similar:\n",
        "        slide_image = Image.fromarray(frames[i + 1])\n",
        "        unique_slides.append(slide_image)"
      ],
      "metadata": {
        "id": "vmuzrZEQXaMW"
      },
      "execution_count": 7,
      "outputs": []
    },
    {
      "cell_type": "code",
      "execution_count": 8,
      "metadata": {
        "colab": {
          "base_uri": "https://localhost:8080/"
        },
        "id": "ZTh8pNhBR035",
        "outputId": "b8e40620-e467-4ffc-ea2b-a4d03ed3b61a"
      },
      "outputs": [
        {
          "output_type": "stream",
          "name": "stdout",
          "text": [
            "PDF with extracted slides created at: extracted_slides.pdf\n"
          ]
        }
      ],
      "source": [
        "import io\n",
        "# Create a PDF document\n",
        "pdf_path = 'extracted_slides.pdf'\n",
        "pdf_doc = fitz.open()\n",
        "\n",
        "# Add slides to the PDF\n",
        "for slide in unique_slides:\n",
        "    img_byte_arr = io.BytesIO()\n",
        "    slide.save(img_byte_arr, format='PNG')\n",
        "    img_byte_arr = img_byte_arr.getvalue()\n",
        "    img = fitz.open(\"png\", img_byte_arr)\n",
        "    rect = img[0].rect\n",
        "    pdfbytes = img.convert_to_pdf()\n",
        "    img.close()\n",
        "    imgPDF = fitz.open(\"pdf\", pdfbytes)\n",
        "    page = pdf_doc.new_page(width = rect.width, height = rect.height)\n",
        "    page.show_pdf_page(rect, imgPDF, 0)\n",
        "\n",
        "# Save the PDF document\n",
        "pdf_doc.save(pdf_path)\n",
        "pdf_doc.close()\n",
        "\n",
        "print(f\"PDF with extracted slides created at: {pdf_path}\")\n"
      ]
    }
  ],
  "metadata": {
    "colab": {
      "machine_shape": "hm",
      "provenance": []
    },
    "kernelspec": {
      "display_name": "Python 3 (ipykernel)",
      "language": "python",
      "name": "python3"
    },
    "language_info": {
      "codemirror_mode": {
        "name": "ipython",
        "version": 3
      },
      "file_extension": ".py",
      "mimetype": "text/x-python",
      "name": "python",
      "nbconvert_exporter": "python",
      "pygments_lexer": "ipython3",
      "version": "3.11.5"
    }
  },
  "nbformat": 4,
  "nbformat_minor": 0
}
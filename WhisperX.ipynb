{
  "cells": [
    {
      "cell_type": "markdown",
      "metadata": {
        "id": "view-in-github",
        "colab_type": "text"
      },
      "source": [
        "<a href=\"https://colab.research.google.com/github/wingmoe21/tech_innovators/blob/main/WhisperX.ipynb\" target=\"_parent\"><img src=\"https://colab.research.google.com/assets/colab-badge.svg\" alt=\"Open In Colab\"/></a>"
      ]
    },
    {
      "cell_type": "code",
      "execution_count": null,
      "metadata": {
        "colab": {
          "base_uri": "https://localhost:8080/",
          "height": 1000
        },
        "id": "oT3J4hFkkNYp",
        "outputId": "2192265a-7d74-4c1e-e827-4afff2c7331f"
      },
      "outputs": [
        {
          "name": "stdout",
          "output_type": "stream",
          "text": [
            "Collecting git+https://github.com/m-bain/whisperx.git\n",
            "  Cloning https://github.com/m-bain/whisperx.git to c:\\users\\mald2\\appdata\\local\\temp\\pip-req-build-1ai1x4ut\n",
            "  Resolved https://github.com/m-bain/whisperx.git to commit 4ece2369d73465a4e50417d0f0a45e262343703a\n",
            "  Installing build dependencies: started\n",
            "  Installing build dependencies: finished with status 'done'\n",
            "  Getting requirements to build wheel: started\n",
            "  Getting requirements to build wheel: finished with status 'done'\n",
            "  Preparing metadata (pyproject.toml): started\n",
            "  Preparing metadata (pyproject.toml): finished with status 'done'\n",
            "Requirement already satisfied: torch>=2 in c:\\users\\mald2\\appdata\\local\\programs\\python\\python311\\lib\\site-packages (from whisperx==3.1.1) (2.1.0+cu121)\n",
            "Requirement already satisfied: torchaudio>=2 in c:\\users\\mald2\\appdata\\local\\programs\\python\\python311\\lib\\site-packages (from whisperx==3.1.1) (2.1.0)\n",
            "Requirement already satisfied: faster-whisper>=0.8 in c:\\users\\mald2\\appdata\\local\\programs\\python\\python311\\lib\\site-packages (from whisperx==3.1.1) (0.9.0)\n",
            "Requirement already satisfied: transformers in c:\\users\\mald2\\appdata\\local\\programs\\python\\python311\\lib\\site-packages (from whisperx==3.1.1) (4.35.0)\n",
            "Requirement already satisfied: pandas in c:\\users\\mald2\\appdata\\local\\programs\\python\\python311\\lib\\site-packages (from whisperx==3.1.1) (2.1.3)\n",
            "Requirement already satisfied: setuptools>=65 in c:\\users\\mald2\\appdata\\local\\programs\\python\\python311\\lib\\site-packages (from whisperx==3.1.1) (65.5.0)\n",
            "Requirement already satisfied: nltk in c:\\users\\mald2\\appdata\\local\\programs\\python\\python311\\lib\\site-packages (from whisperx==3.1.1) (3.8.1)\n",
            "Requirement already satisfied: pyannote.audio==3.0.1 in c:\\users\\mald2\\appdata\\local\\programs\\python\\python311\\lib\\site-packages (from whisperx==3.1.1) (3.0.1)\n",
            "Requirement already satisfied: asteroid-filterbanks>=0.4 in c:\\users\\mald2\\appdata\\local\\programs\\python\\python311\\lib\\site-packages (from pyannote.audio==3.0.1->whisperx==3.1.1) (0.4.0)\n",
            "Requirement already satisfied: einops>=0.6.0 in c:\\users\\mald2\\appdata\\local\\programs\\python\\python311\\lib\\site-packages (from pyannote.audio==3.0.1->whisperx==3.1.1) (0.7.0)\n",
            "Requirement already satisfied: huggingface-hub>=0.13.0 in c:\\users\\mald2\\appdata\\local\\programs\\python\\python311\\lib\\site-packages (from pyannote.audio==3.0.1->whisperx==3.1.1) (0.17.3)\n",
            "Requirement already satisfied: lightning>=2.0.1 in c:\\users\\mald2\\appdata\\local\\programs\\python\\python311\\lib\\site-packages (from pyannote.audio==3.0.1->whisperx==3.1.1) (2.1.1)\n",
            "Requirement already satisfied: omegaconf<3.0,>=2.1 in c:\\users\\mald2\\appdata\\local\\programs\\python\\python311\\lib\\site-packages (from pyannote.audio==3.0.1->whisperx==3.1.1) (2.3.0)\n",
            "Requirement already satisfied: onnxruntime-gpu>=1.16.0 in c:\\users\\mald2\\appdata\\local\\programs\\python\\python311\\lib\\site-packages (from pyannote.audio==3.0.1->whisperx==3.1.1) (1.16.2)\n",
            "Requirement already satisfied: pyannote.core>=5.0.0 in c:\\users\\mald2\\appdata\\local\\programs\\python\\python311\\lib\\site-packages (from pyannote.audio==3.0.1->whisperx==3.1.1) (5.0.0)\n",
            "Requirement already satisfied: pyannote.database>=5.0.1 in c:\\users\\mald2\\appdata\\local\\programs\\python\\python311\\lib\\site-packages (from pyannote.audio==3.0.1->whisperx==3.1.1) (5.0.1)\n",
            "Requirement already satisfied: pyannote.metrics>=3.2 in c:\\users\\mald2\\appdata\\local\\programs\\python\\python311\\lib\\site-packages (from pyannote.audio==3.0.1->whisperx==3.1.1) (3.2.1)\n",
            "Requirement already satisfied: pyannote.pipeline>=3.0.1 in c:\\users\\mald2\\appdata\\local\\programs\\python\\python311\\lib\\site-packages (from pyannote.audio==3.0.1->whisperx==3.1.1) (3.0.1)\n",
            "Requirement already satisfied: pytorch-metric-learning>=2.1.0 in c:\\users\\mald2\\appdata\\local\\programs\\python\\python311\\lib\\site-packages (from pyannote.audio==3.0.1->whisperx==3.1.1) (2.3.0)\n",
            "Requirement already satisfied: rich>=12.0.0 in c:\\users\\mald2\\appdata\\local\\programs\\python\\python311\\lib\\site-packages (from pyannote.audio==3.0.1->whisperx==3.1.1) (13.6.0)\n",
            "Requirement already satisfied: semver>=3.0.0 in c:\\users\\mald2\\appdata\\local\\programs\\python\\python311\\lib\\site-packages (from pyannote.audio==3.0.1->whisperx==3.1.1) (3.0.2)\n",
            "Requirement already satisfied: soundfile>=0.12.1 in c:\\users\\mald2\\appdata\\local\\programs\\python\\python311\\lib\\site-packages (from pyannote.audio==3.0.1->whisperx==3.1.1) (0.12.1)\n",
            "Requirement already satisfied: speechbrain>=0.5.14 in c:\\users\\mald2\\appdata\\local\\programs\\python\\python311\\lib\\site-packages (from pyannote.audio==3.0.1->whisperx==3.1.1) (0.5.15)\n",
            "Requirement already satisfied: tensorboardX>=2.6 in c:\\users\\mald2\\appdata\\local\\programs\\python\\python311\\lib\\site-packages (from pyannote.audio==3.0.1->whisperx==3.1.1) (2.6.2.2)\n",
            "Requirement already satisfied: torch-audiomentations>=0.11.0 in c:\\users\\mald2\\appdata\\local\\programs\\python\\python311\\lib\\site-packages (from pyannote.audio==3.0.1->whisperx==3.1.1) (0.11.0)\n",
            "Requirement already satisfied: torchmetrics>=0.11.0 in c:\\users\\mald2\\appdata\\local\\programs\\python\\python311\\lib\\site-packages (from pyannote.audio==3.0.1->whisperx==3.1.1) (1.2.0)\n",
            "Requirement already satisfied: av==10.* in c:\\users\\mald2\\appdata\\local\\programs\\python\\python311\\lib\\site-packages (from faster-whisper>=0.8->whisperx==3.1.1) (10.0.0)\n",
            "Requirement already satisfied: ctranslate2<4,>=3.17 in c:\\users\\mald2\\appdata\\local\\programs\\python\\python311\\lib\\site-packages (from faster-whisper>=0.8->whisperx==3.1.1) (3.21.0)\n",
            "Requirement already satisfied: tokenizers<0.15,>=0.13 in c:\\users\\mald2\\appdata\\local\\programs\\python\\python311\\lib\\site-packages (from faster-whisper>=0.8->whisperx==3.1.1) (0.14.1)\n",
            "Requirement already satisfied: onnxruntime<2,>=1.14 in c:\\users\\mald2\\appdata\\local\\programs\\python\\python311\\lib\\site-packages (from faster-whisper>=0.8->whisperx==3.1.1) (1.16.2)\n",
            "Requirement already satisfied: filelock in c:\\users\\mald2\\appdata\\local\\programs\\python\\python311\\lib\\site-packages (from torch>=2->whisperx==3.1.1) (3.13.1)\n",
            "Requirement already satisfied: typing-extensions in c:\\users\\mald2\\appdata\\local\\programs\\python\\python311\\lib\\site-packages (from torch>=2->whisperx==3.1.1) (4.8.0)\n",
            "Requirement already satisfied: sympy in c:\\users\\mald2\\appdata\\local\\programs\\python\\python311\\lib\\site-packages (from torch>=2->whisperx==3.1.1) (1.12)\n",
            "Requirement already satisfied: networkx in c:\\users\\mald2\\appdata\\local\\programs\\python\\python311\\lib\\site-packages (from torch>=2->whisperx==3.1.1) (3.2.1)\n",
            "Requirement already satisfied: jinja2 in c:\\users\\mald2\\appdata\\local\\programs\\python\\python311\\lib\\site-packages (from torch>=2->whisperx==3.1.1) (3.1.2)\n",
            "Requirement already satisfied: fsspec in c:\\users\\mald2\\appdata\\local\\programs\\python\\python311\\lib\\site-packages (from torch>=2->whisperx==3.1.1) (2023.10.0)\n",
            "Requirement already satisfied: click in c:\\users\\mald2\\appdata\\local\\programs\\python\\python311\\lib\\site-packages (from nltk->whisperx==3.1.1) (8.1.7)\n",
            "Requirement already satisfied: joblib in c:\\users\\mald2\\appdata\\local\\programs\\python\\python311\\lib\\site-packages (from nltk->whisperx==3.1.1) (1.3.2)\n",
            "Requirement already satisfied: regex>=2021.8.3 in c:\\users\\mald2\\appdata\\local\\programs\\python\\python311\\lib\\site-packages (from nltk->whisperx==3.1.1) (2023.10.3)\n",
            "Requirement already satisfied: tqdm in c:\\users\\mald2\\appdata\\local\\programs\\python\\python311\\lib\\site-packages (from nltk->whisperx==3.1.1) (4.66.1)\n",
            "Requirement already satisfied: numpy<2,>=1.23.2 in c:\\users\\mald2\\appdata\\local\\programs\\python\\python311\\lib\\site-packages (from pandas->whisperx==3.1.1) (1.26.1)\n",
            "Requirement already satisfied: python-dateutil>=2.8.2 in c:\\users\\mald2\\appdata\\local\\programs\\python\\python311\\lib\\site-packages (from pandas->whisperx==3.1.1) (2.8.2)\n",
            "Requirement already satisfied: pytz>=2020.1 in c:\\users\\mald2\\appdata\\local\\programs\\python\\python311\\lib\\site-packages (from pandas->whisperx==3.1.1) (2023.3.post1)\n",
            "Requirement already satisfied: tzdata>=2022.1 in c:\\users\\mald2\\appdata\\local\\programs\\python\\python311\\lib\\site-packages (from pandas->whisperx==3.1.1) (2023.3)\n",
            "Requirement already satisfied: packaging>=20.0 in c:\\users\\mald2\\appdata\\local\\programs\\python\\python311\\lib\\site-packages (from transformers->whisperx==3.1.1) (23.2)\n",
            "Requirement already satisfied: pyyaml>=5.1 in c:\\users\\mald2\\appdata\\local\\programs\\python\\python311\\lib\\site-packages (from transformers->whisperx==3.1.1) (6.0.1)\n",
            "Requirement already satisfied: requests in c:\\users\\mald2\\appdata\\local\\programs\\python\\python311\\lib\\site-packages (from transformers->whisperx==3.1.1) (2.31.0)\n",
            "Requirement already satisfied: safetensors>=0.3.1 in c:\\users\\mald2\\appdata\\local\\programs\\python\\python311\\lib\\site-packages (from transformers->whisperx==3.1.1) (0.4.0)\n",
            "Requirement already satisfied: lightning-utilities<2.0,>=0.8.0 in c:\\users\\mald2\\appdata\\local\\programs\\python\\python311\\lib\\site-packages (from lightning>=2.0.1->pyannote.audio==3.0.1->whisperx==3.1.1) (0.9.0)\n",
            "Requirement already satisfied: pytorch-lightning in c:\\users\\mald2\\appdata\\local\\programs\\python\\python311\\lib\\site-packages (from lightning>=2.0.1->pyannote.audio==3.0.1->whisperx==3.1.1) (2.1.1)\n",
            "Requirement already satisfied: antlr4-python3-runtime==4.9.* in c:\\users\\mald2\\appdata\\local\\programs\\python\\python311\\lib\\site-packages (from omegaconf<3.0,>=2.1->pyannote.audio==3.0.1->whisperx==3.1.1) (4.9.3)\n",
            "Requirement already satisfied: coloredlogs in c:\\users\\mald2\\appdata\\local\\programs\\python\\python311\\lib\\site-packages (from onnxruntime<2,>=1.14->faster-whisper>=0.8->whisperx==3.1.1) (15.0.1)\n",
            "Requirement already satisfied: flatbuffers in c:\\users\\mald2\\appdata\\local\\programs\\python\\python311\\lib\\site-packages (from onnxruntime<2,>=1.14->faster-whisper>=0.8->whisperx==3.1.1) (23.5.26)\n",
            "Requirement already satisfied: protobuf in c:\\users\\mald2\\appdata\\local\\programs\\python\\python311\\lib\\site-packages (from onnxruntime<2,>=1.14->faster-whisper>=0.8->whisperx==3.1.1) (4.25.0)\n",
            "Requirement already satisfied: sortedcontainers>=2.0.4 in c:\\users\\mald2\\appdata\\local\\programs\\python\\python311\\lib\\site-packages (from pyannote.core>=5.0.0->pyannote.audio==3.0.1->whisperx==3.1.1) (2.4.0)\n",
            "Requirement already satisfied: scipy>=1.1 in c:\\users\\mald2\\appdata\\local\\programs\\python\\python311\\lib\\site-packages (from pyannote.core>=5.0.0->pyannote.audio==3.0.1->whisperx==3.1.1) (1.11.3)\n",
            "Requirement already satisfied: typer>=0.2.1 in c:\\users\\mald2\\appdata\\local\\programs\\python\\python311\\lib\\site-packages (from typer[all]>=0.2.1->pyannote.database>=5.0.1->pyannote.audio==3.0.1->whisperx==3.1.1) (0.9.0)\n",
            "Requirement already satisfied: scikit-learn>=0.17.1 in c:\\users\\mald2\\appdata\\local\\programs\\python\\python311\\lib\\site-packages (from pyannote.metrics>=3.2->pyannote.audio==3.0.1->whisperx==3.1.1) (1.3.2)\n",
            "Requirement already satisfied: docopt>=0.6.2 in c:\\users\\mald2\\appdata\\local\\programs\\python\\python311\\lib\\site-packages (from pyannote.metrics>=3.2->pyannote.audio==3.0.1->whisperx==3.1.1) (0.6.2)\n",
            "Requirement already satisfied: tabulate>=0.7.7 in c:\\users\\mald2\\appdata\\local\\programs\\python\\python311\\lib\\site-packages (from pyannote.metrics>=3.2->pyannote.audio==3.0.1->whisperx==3.1.1) (0.9.0)\n",
            "Requirement already satisfied: matplotlib>=2.0.0 in c:\\users\\mald2\\appdata\\local\\programs\\python\\python311\\lib\\site-packages (from pyannote.metrics>=3.2->pyannote.audio==3.0.1->whisperx==3.1.1) (3.8.1)\n",
            "Requirement already satisfied: optuna>=3.1 in c:\\users\\mald2\\appdata\\local\\programs\\python\\python311\\lib\\site-packages (from pyannote.pipeline>=3.0.1->pyannote.audio==3.0.1->whisperx==3.1.1) (3.4.0)\n",
            "Requirement already satisfied: six>=1.5 in c:\\users\\mald2\\appdata\\local\\programs\\python\\python311\\lib\\site-packages (from python-dateutil>=2.8.2->pandas->whisperx==3.1.1) (1.16.0)\n",
            "Requirement already satisfied: markdown-it-py>=2.2.0 in c:\\users\\mald2\\appdata\\local\\programs\\python\\python311\\lib\\site-packages (from rich>=12.0.0->pyannote.audio==3.0.1->whisperx==3.1.1) (3.0.0)\n",
            "Requirement already satisfied: pygments<3.0.0,>=2.13.0 in c:\\users\\mald2\\appdata\\local\\programs\\python\\python311\\lib\\site-packages (from rich>=12.0.0->pyannote.audio==3.0.1->whisperx==3.1.1) (2.16.1)\n",
            "Requirement already satisfied: cffi>=1.0 in c:\\users\\mald2\\appdata\\local\\programs\\python\\python311\\lib\\site-packages (from soundfile>=0.12.1->pyannote.audio==3.0.1->whisperx==3.1.1) (1.16.0)\n",
            "Requirement already satisfied: hyperpyyaml in c:\\users\\mald2\\appdata\\local\\programs\\python\\python311\\lib\\site-packages (from speechbrain>=0.5.14->pyannote.audio==3.0.1->whisperx==3.1.1) (1.2.2)\n",
            "Requirement already satisfied: sentencepiece in c:\\users\\mald2\\appdata\\local\\programs\\python\\python311\\lib\\site-packages (from speechbrain>=0.5.14->pyannote.audio==3.0.1->whisperx==3.1.1) (0.1.99)\n",
            "Requirement already satisfied: mpmath>=0.19 in c:\\users\\mald2\\appdata\\local\\programs\\python\\python311\\lib\\site-packages (from sympy->torch>=2->whisperx==3.1.1) (1.3.0)\n",
            "Requirement already satisfied: julius<0.3,>=0.2.3 in c:\\users\\mald2\\appdata\\local\\programs\\python\\python311\\lib\\site-packages (from torch-audiomentations>=0.11.0->pyannote.audio==3.0.1->whisperx==3.1.1) (0.2.7)\n",
            "Requirement already satisfied: librosa>=0.6.0 in c:\\users\\mald2\\appdata\\local\\programs\\python\\python311\\lib\\site-packages (from torch-audiomentations>=0.11.0->pyannote.audio==3.0.1->whisperx==3.1.1) (0.10.1)\n",
            "Requirement already satisfied: torch-pitch-shift>=1.2.2 in c:\\users\\mald2\\appdata\\local\\programs\\python\\python311\\lib\\site-packages (from torch-audiomentations>=0.11.0->pyannote.audio==3.0.1->whisperx==3.1.1) (1.2.4)\n",
            "Requirement already satisfied: colorama in c:\\users\\mald2\\appdata\\local\\programs\\python\\python311\\lib\\site-packages (from tqdm->nltk->whisperx==3.1.1) (0.4.6)\n",
            "Requirement already satisfied: MarkupSafe>=2.0 in c:\\users\\mald2\\appdata\\local\\programs\\python\\python311\\lib\\site-packages (from jinja2->torch>=2->whisperx==3.1.1) (2.1.3)\n",
            "Requirement already satisfied: charset-normalizer<4,>=2 in c:\\users\\mald2\\appdata\\local\\programs\\python\\python311\\lib\\site-packages (from requests->transformers->whisperx==3.1.1) (3.3.0)\n",
            "Requirement already satisfied: idna<4,>=2.5 in c:\\users\\mald2\\appdata\\local\\programs\\python\\python311\\lib\\site-packages (from requests->transformers->whisperx==3.1.1) (3.4)\n",
            "Requirement already satisfied: urllib3<3,>=1.21.1 in c:\\users\\mald2\\appdata\\local\\programs\\python\\python311\\lib\\site-packages (from requests->transformers->whisperx==3.1.1) (2.0.6)\n",
            "Requirement already satisfied: certifi>=2017.4.17 in c:\\users\\mald2\\appdata\\local\\programs\\python\\python311\\lib\\site-packages (from requests->transformers->whisperx==3.1.1) (2023.7.22)\n",
            "Requirement already satisfied: pycparser in c:\\users\\mald2\\appdata\\local\\programs\\python\\python311\\lib\\site-packages (from cffi>=1.0->soundfile>=0.12.1->pyannote.audio==3.0.1->whisperx==3.1.1) (2.21)\n",
            "Requirement already satisfied: aiohttp!=4.0.0a0,!=4.0.0a1 in c:\\users\\mald2\\appdata\\local\\programs\\python\\python311\\lib\\site-packages (from fsspec[http]<2025.0,>2021.06.0->lightning>=2.0.1->pyannote.audio==3.0.1->whisperx==3.1.1) (3.8.6)\n",
            "Requirement already satisfied: audioread>=2.1.9 in c:\\users\\mald2\\appdata\\local\\programs\\python\\python311\\lib\\site-packages (from librosa>=0.6.0->torch-audiomentations>=0.11.0->pyannote.audio==3.0.1->whisperx==3.1.1) (3.0.1)\n",
            "Requirement already satisfied: decorator>=4.3.0 in c:\\users\\mald2\\appdata\\local\\programs\\python\\python311\\lib\\site-packages (from librosa>=0.6.0->torch-audiomentations>=0.11.0->pyannote.audio==3.0.1->whisperx==3.1.1) (4.4.2)\n",
            "Requirement already satisfied: numba>=0.51.0 in c:\\users\\mald2\\appdata\\local\\programs\\python\\python311\\lib\\site-packages (from librosa>=0.6.0->torch-audiomentations>=0.11.0->pyannote.audio==3.0.1->whisperx==3.1.1) (0.58.1)\n",
            "Requirement already satisfied: pooch>=1.0 in c:\\users\\mald2\\appdata\\local\\programs\\python\\python311\\lib\\site-packages (from librosa>=0.6.0->torch-audiomentations>=0.11.0->pyannote.audio==3.0.1->whisperx==3.1.1) (1.8.0)\n",
            "Requirement already satisfied: soxr>=0.3.2 in c:\\users\\mald2\\appdata\\local\\programs\\python\\python311\\lib\\site-packages (from librosa>=0.6.0->torch-audiomentations>=0.11.0->pyannote.audio==3.0.1->whisperx==3.1.1) (0.3.7)\n",
            "Requirement already satisfied: lazy-loader>=0.1 in c:\\users\\mald2\\appdata\\local\\programs\\python\\python311\\lib\\site-packages (from librosa>=0.6.0->torch-audiomentations>=0.11.0->pyannote.audio==3.0.1->whisperx==3.1.1) (0.3)\n",
            "Requirement already satisfied: msgpack>=1.0 in c:\\users\\mald2\\appdata\\local\\programs\\python\\python311\\lib\\site-packages (from librosa>=0.6.0->torch-audiomentations>=0.11.0->pyannote.audio==3.0.1->whisperx==3.1.1) (1.0.7)\n",
            "Requirement already satisfied: mdurl~=0.1 in c:\\users\\mald2\\appdata\\local\\programs\\python\\python311\\lib\\site-packages (from markdown-it-py>=2.2.0->rich>=12.0.0->pyannote.audio==3.0.1->whisperx==3.1.1) (0.1.2)\n",
            "Requirement already satisfied: contourpy>=1.0.1 in c:\\users\\mald2\\appdata\\local\\programs\\python\\python311\\lib\\site-packages (from matplotlib>=2.0.0->pyannote.metrics>=3.2->pyannote.audio==3.0.1->whisperx==3.1.1) (1.2.0)\n",
            "Requirement already satisfied: cycler>=0.10 in c:\\users\\mald2\\appdata\\local\\programs\\python\\python311\\lib\\site-packages (from matplotlib>=2.0.0->pyannote.metrics>=3.2->pyannote.audio==3.0.1->whisperx==3.1.1) (0.12.1)\n",
            "Requirement already satisfied: fonttools>=4.22.0 in c:\\users\\mald2\\appdata\\local\\programs\\python\\python311\\lib\\site-packages (from matplotlib>=2.0.0->pyannote.metrics>=3.2->pyannote.audio==3.0.1->whisperx==3.1.1) (4.44.0)\n",
            "Requirement already satisfied: kiwisolver>=1.3.1 in c:\\users\\mald2\\appdata\\local\\programs\\python\\python311\\lib\\site-packages (from matplotlib>=2.0.0->pyannote.metrics>=3.2->pyannote.audio==3.0.1->whisperx==3.1.1) (1.4.5)\n",
            "Requirement already satisfied: pillow>=8 in c:\\users\\mald2\\appdata\\local\\programs\\python\\python311\\lib\\site-packages (from matplotlib>=2.0.0->pyannote.metrics>=3.2->pyannote.audio==3.0.1->whisperx==3.1.1) (10.0.1)\n",
            "Requirement already satisfied: pyparsing>=2.3.1 in c:\\users\\mald2\\appdata\\local\\programs\\python\\python311\\lib\\site-packages (from matplotlib>=2.0.0->pyannote.metrics>=3.2->pyannote.audio==3.0.1->whisperx==3.1.1) (3.1.1)\n",
            "Requirement already satisfied: alembic>=1.5.0 in c:\\users\\mald2\\appdata\\local\\programs\\python\\python311\\lib\\site-packages (from optuna>=3.1->pyannote.pipeline>=3.0.1->pyannote.audio==3.0.1->whisperx==3.1.1) (1.12.1)\n",
            "Requirement already satisfied: colorlog in c:\\users\\mald2\\appdata\\local\\programs\\python\\python311\\lib\\site-packages (from optuna>=3.1->pyannote.pipeline>=3.0.1->pyannote.audio==3.0.1->whisperx==3.1.1) (6.7.0)\n",
            "Requirement already satisfied: sqlalchemy>=1.3.0 in c:\\users\\mald2\\appdata\\local\\programs\\python\\python311\\lib\\site-packages (from optuna>=3.1->pyannote.pipeline>=3.0.1->pyannote.audio==3.0.1->whisperx==3.1.1) (2.0.23)\n",
            "Requirement already satisfied: threadpoolctl>=2.0.0 in c:\\users\\mald2\\appdata\\local\\programs\\python\\python311\\lib\\site-packages (from scikit-learn>=0.17.1->pyannote.metrics>=3.2->pyannote.audio==3.0.1->whisperx==3.1.1) (3.2.0)\n",
            "Requirement already satisfied: primePy>=1.3 in c:\\users\\mald2\\appdata\\local\\programs\\python\\python311\\lib\\site-packages (from torch-pitch-shift>=1.2.2->torch-audiomentations>=0.11.0->pyannote.audio==3.0.1->whisperx==3.1.1) (1.3)\n",
            "Requirement already satisfied: shellingham<2.0.0,>=1.3.0 in c:\\users\\mald2\\appdata\\local\\programs\\python\\python311\\lib\\site-packages (from typer[all]>=0.2.1->pyannote.database>=5.0.1->pyannote.audio==3.0.1->whisperx==3.1.1) (1.5.4)\n",
            "Requirement already satisfied: humanfriendly>=9.1 in c:\\users\\mald2\\appdata\\local\\programs\\python\\python311\\lib\\site-packages (from coloredlogs->onnxruntime<2,>=1.14->faster-whisper>=0.8->whisperx==3.1.1) (10.0)\n",
            "Requirement already satisfied: ruamel.yaml>=0.17.28 in c:\\users\\mald2\\appdata\\local\\programs\\python\\python311\\lib\\site-packages (from hyperpyyaml->speechbrain>=0.5.14->pyannote.audio==3.0.1->whisperx==3.1.1) (0.18.5)\n",
            "Requirement already satisfied: attrs>=17.3.0 in c:\\users\\mald2\\appdata\\local\\programs\\python\\python311\\lib\\site-packages (from aiohttp!=4.0.0a0,!=4.0.0a1->fsspec[http]<2025.0,>2021.06.0->lightning>=2.0.1->pyannote.audio==3.0.1->whisperx==3.1.1) (23.1.0)\n",
            "Requirement already satisfied: multidict<7.0,>=4.5 in c:\\users\\mald2\\appdata\\local\\programs\\python\\python311\\lib\\site-packages (from aiohttp!=4.0.0a0,!=4.0.0a1->fsspec[http]<2025.0,>2021.06.0->lightning>=2.0.1->pyannote.audio==3.0.1->whisperx==3.1.1) (6.0.4)\n",
            "Requirement already satisfied: async-timeout<5.0,>=4.0.0a3 in c:\\users\\mald2\\appdata\\local\\programs\\python\\python311\\lib\\site-packages (from aiohttp!=4.0.0a0,!=4.0.0a1->fsspec[http]<2025.0,>2021.06.0->lightning>=2.0.1->pyannote.audio==3.0.1->whisperx==3.1.1) (4.0.3)\n",
            "Requirement already satisfied: yarl<2.0,>=1.0 in c:\\users\\mald2\\appdata\\local\\programs\\python\\python311\\lib\\site-packages (from aiohttp!=4.0.0a0,!=4.0.0a1->fsspec[http]<2025.0,>2021.06.0->lightning>=2.0.1->pyannote.audio==3.0.1->whisperx==3.1.1) (1.9.2)\n",
            "Requirement already satisfied: frozenlist>=1.1.1 in c:\\users\\mald2\\appdata\\local\\programs\\python\\python311\\lib\\site-packages (from aiohttp!=4.0.0a0,!=4.0.0a1->fsspec[http]<2025.0,>2021.06.0->lightning>=2.0.1->pyannote.audio==3.0.1->whisperx==3.1.1) (1.4.0)\n",
            "Requirement already satisfied: aiosignal>=1.1.2 in c:\\users\\mald2\\appdata\\local\\programs\\python\\python311\\lib\\site-packages (from aiohttp!=4.0.0a0,!=4.0.0a1->fsspec[http]<2025.0,>2021.06.0->lightning>=2.0.1->pyannote.audio==3.0.1->whisperx==3.1.1) (1.3.1)\n",
            "Requirement already satisfied: Mako in c:\\users\\mald2\\appdata\\local\\programs\\python\\python311\\lib\\site-packages (from alembic>=1.5.0->optuna>=3.1->pyannote.pipeline>=3.0.1->pyannote.audio==3.0.1->whisperx==3.1.1) (1.3.0)\n",
            "Requirement already satisfied: pyreadline3 in c:\\users\\mald2\\appdata\\local\\programs\\python\\python311\\lib\\site-packages (from humanfriendly>=9.1->coloredlogs->onnxruntime<2,>=1.14->faster-whisper>=0.8->whisperx==3.1.1) (3.4.1)\n",
            "Requirement already satisfied: llvmlite<0.42,>=0.41.0dev0 in c:\\users\\mald2\\appdata\\local\\programs\\python\\python311\\lib\\site-packages (from numba>=0.51.0->librosa>=0.6.0->torch-audiomentations>=0.11.0->pyannote.audio==3.0.1->whisperx==3.1.1) (0.41.1)\n",
            "Requirement already satisfied: platformdirs>=2.5.0 in c:\\users\\mald2\\appdata\\local\\programs\\python\\python311\\lib\\site-packages (from pooch>=1.0->librosa>=0.6.0->torch-audiomentations>=0.11.0->pyannote.audio==3.0.1->whisperx==3.1.1) (3.11.0)\n",
            "Requirement already satisfied: ruamel.yaml.clib>=0.2.7 in c:\\users\\mald2\\appdata\\local\\programs\\python\\python311\\lib\\site-packages (from ruamel.yaml>=0.17.28->hyperpyyaml->speechbrain>=0.5.14->pyannote.audio==3.0.1->whisperx==3.1.1) (0.2.8)\n",
            "Requirement already satisfied: greenlet!=0.4.17 in c:\\users\\mald2\\appdata\\local\\programs\\python\\python311\\lib\\site-packages (from sqlalchemy>=1.3.0->optuna>=3.1->pyannote.pipeline>=3.0.1->pyannote.audio==3.0.1->whisperx==3.1.1) (3.0.1)\n"
          ]
        },
        {
          "name": "stderr",
          "output_type": "stream",
          "text": [
            "  Running command git clone --filter=blob:none --quiet https://github.com/m-bain/whisperx.git 'C:\\Users\\mald2\\AppData\\Local\\Temp\\pip-req-build-1ai1x4ut'\n"
          ]
        }
      ],
      "source": [
        "! pip install git+https://github.com/m-bain/whisperx.git"
      ]
    },
    {
      "cell_type": "code",
      "execution_count": null,
      "metadata": {
        "id": "13-dfP10fml3",
        "outputId": "1ec3a5a6-fcf2-4318-99fe-9768f84abec0"
      },
      "outputs": [
        {
          "name": "stdout",
          "output_type": "stream",
          "text": [
            "Requirement already satisfied: moviepy in c:\\users\\mald2\\appdata\\local\\programs\\python\\python311\\lib\\site-packages (1.0.3)\n",
            "Requirement already satisfied: ffmpeg in c:\\users\\mald2\\appdata\\local\\programs\\python\\python311\\lib\\site-packages (1.4)\n",
            "Requirement already satisfied: decorator<5.0,>=4.0.2 in c:\\users\\mald2\\appdata\\local\\programs\\python\\python311\\lib\\site-packages (from moviepy) (4.4.2)\n",
            "Requirement already satisfied: tqdm<5.0,>=4.11.2 in c:\\users\\mald2\\appdata\\local\\programs\\python\\python311\\lib\\site-packages (from moviepy) (4.66.1)\n",
            "Requirement already satisfied: requests<3.0,>=2.8.1 in c:\\users\\mald2\\appdata\\local\\programs\\python\\python311\\lib\\site-packages (from moviepy) (2.31.0)\n",
            "Requirement already satisfied: proglog<=1.0.0 in c:\\users\\mald2\\appdata\\local\\programs\\python\\python311\\lib\\site-packages (from moviepy) (0.1.10)\n",
            "Requirement already satisfied: numpy>=1.17.3 in c:\\users\\mald2\\appdata\\local\\programs\\python\\python311\\lib\\site-packages (from moviepy) (1.26.1)\n",
            "Requirement already satisfied: imageio<3.0,>=2.5 in c:\\users\\mald2\\appdata\\local\\programs\\python\\python311\\lib\\site-packages (from moviepy) (2.32.0)\n",
            "Requirement already satisfied: imageio-ffmpeg>=0.2.0 in c:\\users\\mald2\\appdata\\local\\programs\\python\\python311\\lib\\site-packages (from moviepy) (0.4.9)\n",
            "Requirement already satisfied: pillow<10.1.0,>=8.3.2 in c:\\users\\mald2\\appdata\\local\\programs\\python\\python311\\lib\\site-packages (from imageio<3.0,>=2.5->moviepy) (10.0.1)\n",
            "Requirement already satisfied: setuptools in c:\\users\\mald2\\appdata\\local\\programs\\python\\python311\\lib\\site-packages (from imageio-ffmpeg>=0.2.0->moviepy) (65.5.0)\n",
            "Requirement already satisfied: charset-normalizer<4,>=2 in c:\\users\\mald2\\appdata\\local\\programs\\python\\python311\\lib\\site-packages (from requests<3.0,>=2.8.1->moviepy) (3.3.0)\n",
            "Requirement already satisfied: idna<4,>=2.5 in c:\\users\\mald2\\appdata\\local\\programs\\python\\python311\\lib\\site-packages (from requests<3.0,>=2.8.1->moviepy) (3.4)\n",
            "Requirement already satisfied: urllib3<3,>=1.21.1 in c:\\users\\mald2\\appdata\\local\\programs\\python\\python311\\lib\\site-packages (from requests<3.0,>=2.8.1->moviepy) (2.0.6)\n",
            "Requirement already satisfied: certifi>=2017.4.17 in c:\\users\\mald2\\appdata\\local\\programs\\python\\python311\\lib\\site-packages (from requests<3.0,>=2.8.1->moviepy) (2023.7.22)\n",
            "Requirement already satisfied: colorama in c:\\users\\mald2\\appdata\\local\\programs\\python\\python311\\lib\\site-packages (from tqdm<5.0,>=4.11.2->moviepy) (0.4.6)\n",
            "Note: you may need to restart the kernel to use updated packages.\n"
          ]
        }
      ],
      "source": [
        "%pip install moviepy ffmpeg"
      ]
    },
    {
      "cell_type": "code",
      "source": [
        "from google.colab import drive\n",
        "drive.mount('/content/drive')"
      ],
      "metadata": {
        "id": "622DWyR0hGNZ"
      },
      "execution_count": null,
      "outputs": []
    },
    {
      "cell_type": "code",
      "execution_count": null,
      "metadata": {
        "colab": {
          "base_uri": "https://localhost:8080/"
        },
        "id": "T3P5IlRMdPDv",
        "outputId": "af91edab-7014-4609-e45a-40cd6a8c61b6"
      },
      "outputs": [
        {
          "name": "stdout",
          "output_type": "stream",
          "text": [
            "MoviePy - Writing audio in output.mp3\n"
          ]
        },
        {
          "name": "stderr",
          "output_type": "stream",
          "text": [
            "                                                                        \r"
          ]
        },
        {
          "name": "stdout",
          "output_type": "stream",
          "text": [
            "MoviePy - Done.\n"
          ]
        },
        {
          "name": "stderr",
          "output_type": "stream",
          "text": [
            "Lightning automatically upgraded your loaded checkpoint from v1.5.4 to v2.1.1. To apply the upgrade to your files permanently, run `python -m pytorch_lightning.utilities.upgrade_checkpoint C:\\Users\\mald2\\.cache\\torch\\whisperx-vad-segmentation.bin`\n"
          ]
        },
        {
          "name": "stdout",
          "output_type": "stream",
          "text": [
            "No language specified, language will be first be detected for each audio file (increases inference time).\n",
            "Model was trained with pyannote.audio 0.0.1, yours is 3.0.1. Bad things might happen unless you revert pyannote.audio to 0.x.\n",
            "Model was trained with torch 1.10.0+cu102, yours is 2.1.0+cu121. Bad things might happen unless you revert torch to 1.x.\n",
            "Detected language: en (0.53) in first 30s of audio...\n"
          ]
        },
        {
          "name": "stderr",
          "output_type": "stream",
          "text": [
            "Downloading: \"https://download.pytorch.org/torchaudio/models/wav2vec2_fairseq_base_ls960_asr_ls960.pth\" to C:\\Users\\mald2/.cache\\torch\\hub\\checkpoints\\wav2vec2_fairseq_base_ls960_asr_ls960.pth\n",
            "100%|██████████| 360M/360M [01:39<00:00, 3.78MB/s] \n"
          ]
        },
        {
          "name": "stdout",
          "output_type": "stream",
          "text": [
            "Aligned segments saved to aligned_segments.txt\n"
          ]
        }
      ],
      "source": [
        "import whisperx\n",
        "from moviepy.editor import VideoFileClip\n",
        "\n",
        "device = \"cuda\"\n",
        "audio_file = \"/content/drive/MyDrive/Lectures/Next Greater Element _ GeeksforGeeks.mp4\"\n",
        "batch_size = 20  # reduce if low on GPU mem\n",
        "compute_type = \"float16\"  # change to \"int8\" if low on GPU mem (may reduce accuracy)\n",
        "\n",
        "def convert_mp4_to_mp3(input_file, output_file):\n",
        "    video_clip = VideoFileClip(input_file)\n",
        "    audio_clip = video_clip.audio\n",
        "    audio_clip.write_audiofile(output_file)\n",
        "    audio_clip.close()\n",
        "\n",
        "convert_mp4_to_mp3(audio_file, 'output.mp3')\n",
        "\n",
        "# 1. Transcribe with original whisper (batched)\n",
        "model = whisperx.load_model(\"large-v2\", device, compute_type=compute_type)\n",
        "\n",
        "audio = whisperx.load_audio('output.mp3')\n",
        "result = model.transcribe(audio, batch_size=batch_size)\n",
        "\n",
        "# 2. Align whisper output\n",
        "model_a, metadata = whisperx.load_align_model(language_code=result[\"language\"], device=device)\n",
        "result = whisperx.align(result[\"segments\"], model_a, metadata, audio, device, return_char_alignments=False)\n",
        "\n",
        "# Save the aligned segments to a text file\n",
        "output_file_path = 'aligned_segments.txt'\n",
        "with open(output_file_path, 'w') as f:\n",
        "    for segment in result[\"segments\"]:\n",
        "        f.write(f\"{segment['start']} - {segment['end']}: {segment['text']}\\n\")\n",
        "\n",
        "print(f\"Aligned segments saved to {output_file_path}\")\n"
      ]
    }
  ],
  "metadata": {
    "accelerator": "GPU",
    "colab": {
      "gpuType": "V100",
      "machine_shape": "hm",
      "provenance": [],
      "include_colab_link": true
    },
    "kernelspec": {
      "display_name": "Python 3",
      "name": "python3"
    },
    "language_info": {
      "codemirror_mode": {
        "name": "ipython",
        "version": 3
      },
      "file_extension": ".py",
      "mimetype": "text/x-python",
      "name": "python",
      "nbconvert_exporter": "python",
      "pygments_lexer": "ipython3",
      "version": "3.11.2"
    }
  },
  "nbformat": 4,
  "nbformat_minor": 0
}
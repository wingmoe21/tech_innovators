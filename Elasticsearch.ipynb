{
 "cells": [
  {
   "cell_type": "code",
   "execution_count": 3,
   "metadata": {
    "id": "aACp-AsMgLGS"
   },
   "outputs": [],
   "source": [
    "from elasticsearch import Elasticsearch\n"
   ]
  },
  {
   "cell_type": "code",
   "execution_count": 4,
   "metadata": {
    "id": "G7zbvbFrg-dr"
   },
   "outputs": [],
   "source": [
    "es = Elasticsearch('http://localhost:9200')\n",
    "\n"
   ]
  },
  {
   "cell_type": "code",
   "execution_count": 5,
   "metadata": {
    "colab": {
     "base_uri": "https://localhost:8080/"
    },
    "id": "EQBgdWClgWzd",
    "outputId": "2a6fdcaa-6224-4b51-c514-a7c180ea44ae"
   },
   "outputs": [],
   "source": [
    "transcript_data = []\n",
    "\n",
    "with open('Recording3.txt', 'r') as file:\n",
    "    for line in file:\n",
    "        if line.strip():  # Make sure it's not an empty line\n",
    "            timestamp, text = line.split(':',maxsplit=1)\n",
    "            transcript_data.append({\n",
    "                'timestamp': timestamp.strip(),\n",
    "                'text': text.strip()\n",
    "            \n",
    "        })\n"
   ]
  },
  {
   "cell_type": "code",
   "execution_count": 6,
   "metadata": {},
   "outputs": [
    {
     "data": {
      "text/plain": [
       "[{'timestamp': '[0.60 - 1.81]', 'text': 'So what, um...'},\n",
       " {'timestamp': '[2.42 - 6.81]',\n",
       "  'text': \"So we'll start with the end bit of a game.\"},\n",
       " {'timestamp': '[7.02 - 9.62]', 'text': 'There we go, hopefully most of you.'},\n",
       " {'timestamp': '[9.68 - 13.27]',\n",
       "  'text': \"Recognize that war let's it's out fairly soon for my friends at Sony\"},\n",
       " {'timestamp': '[13.30 - 13.80]', 'text': 'Thank you.'},\n",
       " {'timestamp': '[13.97 - 15.02]', 'text': 'Thank you.'},\n",
       " {'timestamp': '[15.06 - 15.74]', 'text': 'Thank you.'},\n",
       " {'timestamp': '[16.22 - 18.09]', 'text': 'Um...'},\n",
       " {'timestamp': '[18.19 - 20.50]', 'text': \"That's an image from a game.\"},\n",
       " {'timestamp': '[20.52 - 26.54]',\n",
       "  'text': \"To be honest, that's probably a mock-up. I suspect that's not a real screen grab, but it's increasingly\"},\n",
       " {'timestamp': '[26.56 - 28.98]',\n",
       "  'text': 'difficult to tell with the latest hardware.'},\n",
       " {'timestamp': '[28.99 - 31.24]',\n",
       "  'text': \"It's a pretty nice image either way.\"},\n",
       " {'timestamp': '[31.55 - 40.38]',\n",
       "  'text': 'So what are we looking at there? What is an image from a game? What does it consist of?'},\n",
       " {'timestamp': '[41.58 - 57.75]',\n",
       "  'text': 'What are the key, the building blocks of it if you like? Yeah? Models. Models, yeah, okay. What are models made of? Polygons. Polygons, there we go. Yeah, so everything in there. 3D models made out of 2D polygons put together.'},\n",
       " {'timestamp': '[57.76 - 59.45]', 'text': 'in a 3D world.'},\n",
       " {'timestamp': '[59.90 - 63.64]',\n",
       "  'text': \"But that's not what we can see there, is it? That's a 2D image.\"},\n",
       " {'timestamp': '[63.75 - 65.37]', 'text': \"So what's the image made of?\"},\n",
       " {'timestamp': '[65.39 - 66.10]', 'text': 'Thank you. Thank you.'},\n",
       " {'timestamp': '[66.46 - 66.93]', 'text': 'Thank you.'},\n",
       " {'timestamp': '[67.58 - 68.00]', 'text': 'Yeah.'},\n",
       " {'timestamp': '[68.01 - 69.99]', 'text': 'Pixels, there we go.'},\n",
       " {'timestamp': '[70.03 - 70.62]', 'text': 'Thank you.'},\n",
       " {'timestamp': '[70.74 - 71.09]', 'text': 'Thank you.'},\n",
       " {'timestamp': '[71.10 - 73.18]', 'text': 'pixels at every'},\n",
       " {'timestamp': '[73.25 - 85.52]',\n",
       "  'text': \"every spot if you like on a screen has an RGB value and that's effectively what we're looking at. When you're sat at home playing World of War, when that comes out, you've got a...\"},\n",
       " {'timestamp': '[85.54 - 87.61]', 'text': 'to the telly'},\n",
       " {'timestamp': '[87.68 - 95.15]',\n",
       "  'text': 'displaying a 2D image which is built from these 3D models which have been animated, put into the world.'},\n",
       " {'timestamp': '[95.39 - 95.99]', 'text': 'time.'},\n",
       " {'timestamp': '[96.07 - 104.96]',\n",
       "  'text': \"Hopefully highly enjoyable games or any boring games. There's plenty of them around as well And this course this module I should say\"},\n",
       " {'timestamp': '[105.12 - 108.34]',\n",
       "  'text': 'Really the decay of it, the decay of the...'},\n",
       " {'timestamp': '[108.78 - 113.51]',\n",
       "  'text': 'of the lectures and the exam really is how'},\n",
       " {'timestamp': '[113.55 - 121.14]',\n",
       "  'text': 'do we turn those 3D models created by artists'},\n",
       " {'timestamp': '[121.18 - 122.94]', 'text': 'into that 2D.'},\n",
       " {'timestamp': '[123.12 - 123.78]', 'text': 'image.'},\n",
       " {'timestamp': '[123.84 - 134.54]',\n",
       "  'text': \"which is moving, it's in real time, has to react, you press jump, you want to get the jump on the screen. How does that happen in real time? What algorithms do we use?\"},\n",
       " {'timestamp': '[134.59 - 139.07]',\n",
       "  'text': \"to make that happen. And that's really what the core of this module is.\"},\n",
       " {'timestamp': '[139.20 - 140.60]', 'text': 'is all about.'},\n",
       " {'timestamp': '[141.26 - 148.59]',\n",
       "  'text': \"We'll give you some practice in doing that. We'll be using Unity, which is an industry standard engine, to do that.\"},\n",
       " {'timestamp': '[148.70 - 155.80]',\n",
       "  'text': \"But all the lectures are about, they're not really about the, well they're not at all about the implementation.\"},\n",
       " {'timestamp': '[155.81 - 158.08]', 'text': \"in unity about what's going on.\"},\n",
       " {'timestamp': '[158.14 - 165.19]',\n",
       "  'text': 'on the hardware. Why is the unit doing the thing it does in order to get those screens running as fast as possible?'},\n",
       " {'timestamp': '[166.40 - 172.47]',\n",
       "  'text': \"So just I guess a reminder, I'm sure you are reasonably aware of this.\"},\n",
       " {'timestamp': '[172.86 - 181.58]',\n",
       "  'text': \"a Pixar movie or Avengers Endgame or whatever it is, if there's all this computer-generated imagery.\"},\n",
       " {'timestamp': '[181.73 - 190.29]',\n",
       "  'text': 'in all his fantastic movies these days. Pixar famously devoted 36 hours to rendering each and every frame.'},\n",
       " {'timestamp': '[190.38 - 197.86]',\n",
       "  'text': \"What I mean by rendering a frame, so we've got those 3D models in the scene, we're going to go through that process of turning...\"},\n",
       " {'timestamp': '[197.92 - 198.70]', 'text': 'each.'},\n",
       " {'timestamp': '[198.78 - 200.72]', 'text': 'each fragment to the image.'},\n",
       " {'timestamp': '[200.75 - 208.51]',\n",
       "  'text': \"The big thing that they spend the time on is getting the lighting right. There's an awful lot of work who isn't delighting. So you have your models, you can color them in.\"},\n",
       " {'timestamp': '[208.75 - 214.78]',\n",
       "  'text': \"how the lid within the scene is well most of the time takes place. And that's really why...\"},\n",
       " {'timestamp': '[214.82 - 216.86]',\n",
       "  'text': 'whatever the latest Pixar movie.'},\n",
       " {'timestamp': '[216.86 - 222.14]',\n",
       "  'text': 'is look so much better than whatever, well, the Cold War, Iraq for example.'},\n",
       " {'timestamp': '[222.62 - 224.94]', 'text': 'So, next time, sorry.'},\n",
       " {'timestamp': '[224.98 - 230.06]',\n",
       "  'text': 'Pixar Famously spends 36 hours on every single frame of their movies.'},\n",
       " {'timestamp': '[230.12 - 244.37]',\n",
       "  'text': \"They do them in parallel, they don't just do one and then 36 hours later they move on to the next one. They do lots of them in parallel, but every frame gets 36 hours of processing time, effectively turning those 3D models into a 2D image for the screen.\"},\n",
       " {'timestamp': '[244.56 - 244.92]', 'text': 'Thank you.'},\n",
       " {'timestamp': '[244.95 - 245.44]', 'text': 'Thank you.'},\n",
       " {'timestamp': '[245.50 - 246.87]', 'text': 'Come on, do that in games.'},\n",
       " {'timestamp': '[246.91 - 253.73]',\n",
       "  'text': \"We've got 33 milliseconds to do exactly the same thing as Pixar have 36 hours to do.\"},\n",
       " {'timestamp': '[255.45 - 255.83]', 'text': 'Thank you.'},\n",
       " {'timestamp': '[256.10 - 258.23]',\n",
       "  'text': \"So we've got it pretty efficient there really.\"},\n",
       " {'timestamp': '[258.36 - 258.70]', 'text': 'Thank you.'},\n",
       " {'timestamp': '[258.86 - 259.26]', 'text': 'Thank you.'},\n",
       " {'timestamp': '[259.54 - 262.38]',\n",
       "  'text': 'Why do we only have 33 milliseconds?'},\n",
       " {'timestamp': '[263.20 - 263.89]', 'text': 'Thank you. Thank you.'},\n",
       " {'timestamp': '[264.59 - 266.08]', 'text': ''},\n",
       " {'timestamp': '[266.18 - 266.62]', 'text': 'you'},\n",
       " {'timestamp': '[266.82 - 269.75]', 'text': 'Get 60 frames a second.'},\n",
       " {'timestamp': '[269.86 - 275.61]',\n",
       "  'text': \"OK, but why can't we do lots of them in parallel, so spend a minute on each one? Is this going to change?\"},\n",
       " {'timestamp': '[275.75 - 285.27]',\n",
       "  'text': \"It's gonna change has to react what the players doing you press jump you want Mario to jump You don't want him going off and coming back 36 hours later saying yeah, I've tuned that\"},\n",
       " {'timestamp': '[285.65 - 291.82]',\n",
       "  'text': \"So, it's really similar techniques used with Pixar as with Nintendo.\"},\n",
       " {'timestamp': '[292.00 - 294.02]', 'text': 'But the key here is to get.'},\n",
       " {'timestamp': '[294.18 - 314.02]',\n",
       "  'text': \"Our rendering process is working as fast as possible while still looking amazing. You shouldn't be cutting corners just to get speed. It has to still look great. Hopefully one of the things we get across during this lecture series is that balancing act. You can always chuck in more fidelity, make it look greater. That's going to bring the frame rate down.\"},\n",
       " {'timestamp': '[314.40 - 317.85]',\n",
       "  'text': \"So you've got to find ways of maintaining the visual quality.\"},\n",
       " {'timestamp': '[318.14 - 321.12]', 'text': 'and also the frame rate.'},\n",
       " {'timestamp': '[321.26 - 327.67]',\n",
       "  'text': 'You play some of these big open world games, you go somewhere, drops down to 20 frames per second, you go, no, like that.'},\n",
       " {'timestamp': '[327.70 - 343.30]',\n",
       "  'text': \"And if you're in virtual reality, really you've got to be 120 frames per second, because you want this eye to be going at 60, and this eye to be going at 60. You end up in the same scene twice. So you've got to be even faster on virtual reality applications.\"},\n",
       " {'timestamp': '[343.30 - 344.42]', 'text': 'Thank you.'},\n",
       " {'timestamp': '[344.53 - 345.22]', 'text': 'Thank you.'},\n",
       " {'timestamp': '[345.38 - 347.55]',\n",
       "  'text': \"Right, I've forgotten what's next.\"},\n",
       " {'timestamp': '[347.60 - 364.31]',\n",
       "  'text': \"Yes, so, as I say, the main thing we'll be talking about through the lecture series is how do we do that in real time? How do we turn those 3D models into a 2D image at a rate of 60 frames per second? What's going on on the hardware? We're going to talk about how the GPU...\"},\n",
       " {'timestamp': '[364.36 - 385.43]',\n",
       "  'text': \"does this and how we as programmers harness the GPU to achieve what we want to do. So we can get fantastic images like Mario there. I'm a bit of a Nintendo fan so there will be a few pictures of Mario and Zelda throughout. I'm guessing that are mostly PC players. No, a few shaking heads. Who's a PC game player?\"},\n",
       " {'timestamp': '[385.61 - 392.14]',\n",
       "  'text': 'Yeah, and with Hans Guur. Why do I hate PC game development as a game developer?'},\n",
       " {'timestamp': '[392.19 - 393.02]', 'text': 'Thank you.'},\n",
       " {'timestamp': '[393.06 - 393.42]', 'text': 'Thank you.'},\n",
       " {'timestamp': '[393.69 - 418.94]', 'text': \"Because they're all different.\"},\n",
       " {'timestamp': '[418.99 - 427.13]',\n",
       "  'text': \"As mentioned this lecture is just kind of an introduction to this whole process. So we'll give you an overview\"},\n",
       " {'timestamp': '[427.19 - 428.64]', 'text': 'of each step.'},\n",
       " {'timestamp': '[428.70 - 433.77]',\n",
       "  'text': \"along the way, give a sense of what the module is and what's expected from the coursework as well.\"},\n",
       " {'timestamp': '[433.79 - 442.04]',\n",
       "  'text': 'So, as was mentioned by my friend at the back there, our models in the game, the 3D models...'},\n",
       " {'timestamp': '[442.07 - 455.86]',\n",
       "  'text': \"They're built by from a sequence of polygons, typically triangles. So there's Mario again. We all know he's built up a mesh of triangles, the quartz here.\"},\n",
       " {'timestamp': '[455.98 - 457.82]', 'text': 'Of course, just two triangles.'},\n",
       " {'timestamp': '[457.85 - 459.09]', 'text': 'Put together.'},\n",
       " {'timestamp': '[459.82 - 461.98]', 'text': \"It's actually it's more\"},\n",
       " {'timestamp': '[462.18 - 468.08]',\n",
       "  'text': \"abstract than that. The models aren't really sets of triangles, they're sets of points in space.\"},\n",
       " {'timestamp': '[468.18 - 477.32]',\n",
       "  'text': \"And those points in space are connected together in polygon. It's usually in triangles. You can get a string of triangles to put together to make the model so item.\"},\n",
       " {'timestamp': '[477.44 - 480.62]',\n",
       "  'text': 'A point in space is known as a vertex.'}]"
      ]
     },
     "execution_count": 6,
     "metadata": {},
     "output_type": "execute_result"
    }
   ],
   "source": [
    "transcript_data"
   ]
  },
  {
   "cell_type": "code",
   "execution_count": 7,
   "metadata": {},
   "outputs": [
    {
     "ename": "BadRequestError",
     "evalue": "BadRequestError(400, 'resource_already_exists_exception', 'index [transcript/gEU47oxqRXmagZnHTsIgVg] already exists')",
     "output_type": "error",
     "traceback": [
      "\u001b[1;31m---------------------------------------------------------------------------\u001b[0m",
      "\u001b[1;31mBadRequestError\u001b[0m                           Traceback (most recent call last)",
      "Cell \u001b[1;32mIn[7], line 12\u001b[0m\n\u001b[0;32m      2\u001b[0m settings \u001b[38;5;241m=\u001b[39m {\n\u001b[0;32m      3\u001b[0m     \u001b[38;5;124m\"\u001b[39m\u001b[38;5;124mmappings\u001b[39m\u001b[38;5;124m\"\u001b[39m: {\n\u001b[0;32m      4\u001b[0m         \u001b[38;5;124m\"\u001b[39m\u001b[38;5;124mproperties\u001b[39m\u001b[38;5;124m\"\u001b[39m: {\n\u001b[1;32m   (...)\u001b[0m\n\u001b[0;32m      8\u001b[0m     }\n\u001b[0;32m      9\u001b[0m }\n\u001b[0;32m     11\u001b[0m \u001b[38;5;66;03m# Create the index\u001b[39;00m\n\u001b[1;32m---> 12\u001b[0m \u001b[43mes\u001b[49m\u001b[38;5;241;43m.\u001b[39;49m\u001b[43mindices\u001b[49m\u001b[38;5;241;43m.\u001b[39;49m\u001b[43mcreate\u001b[49m\u001b[43m(\u001b[49m\u001b[43mindex\u001b[49m\u001b[38;5;241;43m=\u001b[39;49m\u001b[38;5;124;43m\"\u001b[39;49m\u001b[38;5;124;43mtranscript\u001b[39;49m\u001b[38;5;124;43m\"\u001b[39;49m\u001b[43m,\u001b[49m\u001b[43m \u001b[49m\u001b[43mbody\u001b[49m\u001b[38;5;241;43m=\u001b[39;49m\u001b[43msettings\u001b[49m\u001b[43m)\u001b[49m\n",
      "File \u001b[1;32m~\\anaconda3\\envs\\py_env\\lib\\site-packages\\elasticsearch\\_sync\\client\\utils.py:402\u001b[0m, in \u001b[0;36m_rewrite_parameters.<locals>.wrapper.<locals>.wrapped\u001b[1;34m(*args, **kwargs)\u001b[0m\n\u001b[0;32m    399\u001b[0m         \u001b[38;5;28;01mexcept\u001b[39;00m \u001b[38;5;167;01mKeyError\u001b[39;00m:\n\u001b[0;32m    400\u001b[0m             \u001b[38;5;28;01mpass\u001b[39;00m\n\u001b[1;32m--> 402\u001b[0m \u001b[38;5;28;01mreturn\u001b[39;00m api(\u001b[38;5;241m*\u001b[39margs, \u001b[38;5;241m*\u001b[39m\u001b[38;5;241m*\u001b[39mkwargs)\n",
      "File \u001b[1;32m~\\anaconda3\\envs\\py_env\\lib\\site-packages\\elasticsearch\\_sync\\client\\indices.py:493\u001b[0m, in \u001b[0;36mIndicesClient.create\u001b[1;34m(self, index, aliases, error_trace, filter_path, human, mappings, master_timeout, pretty, settings, timeout, wait_for_active_shards)\u001b[0m\n\u001b[0;32m    491\u001b[0m \u001b[38;5;28;01mif\u001b[39;00m __body \u001b[38;5;129;01mis\u001b[39;00m \u001b[38;5;129;01mnot\u001b[39;00m \u001b[38;5;28;01mNone\u001b[39;00m:\n\u001b[0;32m    492\u001b[0m     __headers[\u001b[38;5;124m\"\u001b[39m\u001b[38;5;124mcontent-type\u001b[39m\u001b[38;5;124m\"\u001b[39m] \u001b[38;5;241m=\u001b[39m \u001b[38;5;124m\"\u001b[39m\u001b[38;5;124mapplication/json\u001b[39m\u001b[38;5;124m\"\u001b[39m\n\u001b[1;32m--> 493\u001b[0m \u001b[38;5;28;01mreturn\u001b[39;00m \u001b[38;5;28;43mself\u001b[39;49m\u001b[38;5;241;43m.\u001b[39;49m\u001b[43mperform_request\u001b[49m\u001b[43m(\u001b[49m\u001b[43m  \u001b[49m\u001b[38;5;66;43;03m# type: ignore[return-value]\u001b[39;49;00m\n\u001b[0;32m    494\u001b[0m \u001b[43m    \u001b[49m\u001b[38;5;124;43m\"\u001b[39;49m\u001b[38;5;124;43mPUT\u001b[39;49m\u001b[38;5;124;43m\"\u001b[39;49m\u001b[43m,\u001b[49m\u001b[43m \u001b[49m\u001b[43m__path\u001b[49m\u001b[43m,\u001b[49m\u001b[43m \u001b[49m\u001b[43mparams\u001b[49m\u001b[38;5;241;43m=\u001b[39;49m\u001b[43m__query\u001b[49m\u001b[43m,\u001b[49m\u001b[43m \u001b[49m\u001b[43mheaders\u001b[49m\u001b[38;5;241;43m=\u001b[39;49m\u001b[43m__headers\u001b[49m\u001b[43m,\u001b[49m\u001b[43m \u001b[49m\u001b[43mbody\u001b[49m\u001b[38;5;241;43m=\u001b[39;49m\u001b[43m__body\u001b[49m\n\u001b[0;32m    495\u001b[0m \u001b[43m\u001b[49m\u001b[43m)\u001b[49m\n",
      "File \u001b[1;32m~\\anaconda3\\envs\\py_env\\lib\\site-packages\\elasticsearch\\_sync\\client\\_base.py:389\u001b[0m, in \u001b[0;36mNamespacedClient.perform_request\u001b[1;34m(self, method, path, params, headers, body)\u001b[0m\n\u001b[0;32m    378\u001b[0m \u001b[38;5;28;01mdef\u001b[39;00m \u001b[38;5;21mperform_request\u001b[39m(\n\u001b[0;32m    379\u001b[0m     \u001b[38;5;28mself\u001b[39m,\n\u001b[0;32m    380\u001b[0m     method: \u001b[38;5;28mstr\u001b[39m,\n\u001b[1;32m   (...)\u001b[0m\n\u001b[0;32m    387\u001b[0m     \u001b[38;5;66;03m# Use the internal clients .perform_request() implementation\u001b[39;00m\n\u001b[0;32m    388\u001b[0m     \u001b[38;5;66;03m# so we take advantage of their transport options.\u001b[39;00m\n\u001b[1;32m--> 389\u001b[0m     \u001b[38;5;28;01mreturn\u001b[39;00m \u001b[38;5;28;43mself\u001b[39;49m\u001b[38;5;241;43m.\u001b[39;49m\u001b[43m_client\u001b[49m\u001b[38;5;241;43m.\u001b[39;49m\u001b[43mperform_request\u001b[49m\u001b[43m(\u001b[49m\n\u001b[0;32m    390\u001b[0m \u001b[43m        \u001b[49m\u001b[43mmethod\u001b[49m\u001b[43m,\u001b[49m\u001b[43m \u001b[49m\u001b[43mpath\u001b[49m\u001b[43m,\u001b[49m\u001b[43m \u001b[49m\u001b[43mparams\u001b[49m\u001b[38;5;241;43m=\u001b[39;49m\u001b[43mparams\u001b[49m\u001b[43m,\u001b[49m\u001b[43m \u001b[49m\u001b[43mheaders\u001b[49m\u001b[38;5;241;43m=\u001b[39;49m\u001b[43mheaders\u001b[49m\u001b[43m,\u001b[49m\u001b[43m \u001b[49m\u001b[43mbody\u001b[49m\u001b[38;5;241;43m=\u001b[39;49m\u001b[43mbody\u001b[49m\n\u001b[0;32m    391\u001b[0m \u001b[43m    \u001b[49m\u001b[43m)\u001b[49m\n",
      "File \u001b[1;32m~\\anaconda3\\envs\\py_env\\lib\\site-packages\\elasticsearch\\_sync\\client\\_base.py:320\u001b[0m, in \u001b[0;36mBaseClient.perform_request\u001b[1;34m(self, method, path, params, headers, body)\u001b[0m\n\u001b[0;32m    317\u001b[0m         \u001b[38;5;28;01mexcept\u001b[39;00m (\u001b[38;5;167;01mValueError\u001b[39;00m, \u001b[38;5;167;01mKeyError\u001b[39;00m, \u001b[38;5;167;01mTypeError\u001b[39;00m):\n\u001b[0;32m    318\u001b[0m             \u001b[38;5;28;01mpass\u001b[39;00m\n\u001b[1;32m--> 320\u001b[0m     \u001b[38;5;28;01mraise\u001b[39;00m HTTP_EXCEPTIONS\u001b[38;5;241m.\u001b[39mget(meta\u001b[38;5;241m.\u001b[39mstatus, ApiError)(\n\u001b[0;32m    321\u001b[0m         message\u001b[38;5;241m=\u001b[39mmessage, meta\u001b[38;5;241m=\u001b[39mmeta, body\u001b[38;5;241m=\u001b[39mresp_body\n\u001b[0;32m    322\u001b[0m     )\n\u001b[0;32m    324\u001b[0m \u001b[38;5;66;03m# 'X-Elastic-Product: Elasticsearch' should be on every 2XX response.\u001b[39;00m\n\u001b[0;32m    325\u001b[0m \u001b[38;5;28;01mif\u001b[39;00m \u001b[38;5;129;01mnot\u001b[39;00m \u001b[38;5;28mself\u001b[39m\u001b[38;5;241m.\u001b[39m_verified_elasticsearch:\n\u001b[0;32m    326\u001b[0m     \u001b[38;5;66;03m# If the header is set we mark the server as verified.\u001b[39;00m\n",
      "\u001b[1;31mBadRequestError\u001b[0m: BadRequestError(400, 'resource_already_exists_exception', 'index [transcript/gEU47oxqRXmagZnHTsIgVg] already exists')"
     ]
    }
   ],
   "source": [
    "# Define the index settings and mappings\n",
    "settings = {\n",
    "    \"mappings\": {\n",
    "        \"properties\": {\n",
    "            \"timestamp\": {\"type\": \"text\"},\n",
    "            \"text\": {\"type\": \"text\"}\n",
    "        }\n",
    "    }\n",
    "}\n",
    "\n",
    "# Create the index\n",
    "es.indices.create(index=\"transcript\", body=settings)\n"
   ]
  },
  {
   "cell_type": "code",
   "execution_count": 8,
   "metadata": {},
   "outputs": [],
   "source": [
    "for entry in transcript_data:\n",
    "    es.index(index=\"transcript\", document=entry)\n"
   ]
  },
  {
   "cell_type": "code",
   "execution_count": 9,
   "metadata": {},
   "outputs": [
    {
     "name": "stdout",
     "output_type": "stream",
     "text": [
      "{'timestamp': '[266.82 - 269.75]', 'text': 'Get 60 frames a second.'}\n",
      "{'timestamp': '[266.82 - 269.75]', 'text': 'Get 60 frames a second.'}\n",
      "{'timestamp': '[321.26 - 327.67]', 'text': 'You play some of these big open world games, you go somewhere, drops down to 20 frames per second, you go, no, like that.'}\n",
      "{'timestamp': '[321.26 - 327.67]', 'text': 'You play some of these big open world games, you go somewhere, drops down to 20 frames per second, you go, no, like that.'}\n",
      "{'timestamp': '[327.70 - 343.30]', 'text': \"And if you're in virtual reality, really you've got to be 120 frames per second, because you want this eye to be going at 60, and this eye to be going at 60. You end up in the same scene twice. So you've got to be even faster on virtual reality applications.\"}\n",
      "{'timestamp': '[327.70 - 343.30]', 'text': \"And if you're in virtual reality, really you've got to be 120 frames per second, because you want this eye to be going at 60, and this eye to be going at 60. You end up in the same scene twice. So you've got to be even faster on virtual reality applications.\"}\n",
      "{'timestamp': '[347.60 - 364.31]', 'text': \"Yes, so, as I say, the main thing we'll be talking about through the lecture series is how do we do that in real time? How do we turn those 3D models into a 2D image at a rate of 60 frames per second? What's going on on the hardware? We're going to talk about how the GPU...\"}\n",
      "{'timestamp': '[347.60 - 364.31]', 'text': \"Yes, so, as I say, the main thing we'll be talking about through the lecture series is how do we do that in real time? How do we turn those 3D models into a 2D image at a rate of 60 frames per second? What's going on on the hardware? We're going to talk about how the GPU...\"}\n"
     ]
    }
   ],
   "source": [
    "query = {\n",
    "    \"query\": {\n",
    "        \"match\": {\n",
    "            \"text\": \"frames\"\n",
    "        }\n",
    "    }\n",
    "}\n",
    "\n",
    "results = es.search(index=\"transcript\", body=query)\n",
    "results\n",
    "for result in results['hits']['hits']:\n",
    "    print(result['_source'])\n"
   ]
  },
  {
   "cell_type": "code",
   "execution_count": null,
   "metadata": {},
   "outputs": [],
   "source": []
  }
 ],
 "metadata": {
  "colab": {
   "provenance": []
  },
  "kernelspec": {
   "display_name": "Python 3 (ipykernel)",
   "language": "python",
   "name": "python3"
  },
  "language_info": {
   "codemirror_mode": {
    "name": "ipython",
    "version": 3
   },
   "file_extension": ".py",
   "mimetype": "text/x-python",
   "name": "python",
   "nbconvert_exporter": "python",
   "pygments_lexer": "ipython3",
   "version": "3.9.18"
  }
 },
 "nbformat": 4,
 "nbformat_minor": 4
}
